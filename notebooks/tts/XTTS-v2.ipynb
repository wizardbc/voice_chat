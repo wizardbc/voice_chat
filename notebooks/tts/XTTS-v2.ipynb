{
 "cells": [
  {
   "cell_type": "code",
   "execution_count": 1,
   "metadata": {},
   "outputs": [
    {
     "data": {
      "text/plain": [
       "'/home/mathai/voice_chat'"
      ]
     },
     "execution_count": 1,
     "metadata": {},
     "output_type": "execute_result"
    }
   ],
   "source": [
    "import os\n",
    "os.chdir(\"../../\")\n",
    "os.getcwd()"
   ]
  },
  {
   "cell_type": "code",
   "execution_count": 2,
   "metadata": {},
   "outputs": [
    {
     "name": "stdout",
     "output_type": "stream",
     "text": [
      "model download local already\n"
     ]
    }
   ],
   "source": [
    "if not os.path.exists(\"model/XTTS-v2\"):\n",
    "    model_id = \"coqui/XTTS-v2\"\n",
    "    download_dir = \"model/XTTS-v2\"\n",
    "    !huggingface-cli download {model_id} --local-dir {download_dir}\n",
    "else:\n",
    "    print(\"model download local already\")"
   ]
  },
  {
   "cell_type": "code",
   "execution_count": null,
   "metadata": {},
   "outputs": [
    {
     "name": "stderr",
     "output_type": "stream",
     "text": [
      "/home/mathai/miniforge3/envs/audio_chat/lib/python3.10/site-packages/tqdm/auto.py:21: TqdmWarning: IProgress not found. Please update jupyter and ipywidgets. See https://ipywidgets.readthedocs.io/en/stable/user_install.html\n",
      "  from .autonotebook import tqdm as notebook_tqdm\n"
     ]
    }
   ],
   "source": [
    "from TTS.tts.configs.xtts_config import XttsConfig\n",
    "from TTS.tts.models.xtts import Xtts\n",
    "\n",
    "model_dir = \"model/XTTS-v2/\"\n",
    "config = XttsConfig()\n",
    "config.load_json(f\"{model_dir}config.json\")\n",
    "model = Xtts.init_from_config(config)\n",
    "model.load_checkpoint(config, checkpoint_dir=f\"{model_dir}\", eval=True)\n",
    "model.to(\"cuda\")\n",
    "\n",
    "tts_paths = \"data/ttsvoice/\"\n",
    "reference_audios = [tts_paths + i for i in os.listdir(f\"{tts_paths}\")]\n",
    "\n",
    "gpt_cond_latent, speaker_embedding = model.get_conditioning_latents(audio_path=reference_audios)\n",
    "\n",
    "outputs = model.inference(\n",
    "    text=\"안녕하세요, 이 모델은 tts를 test하기 위한 모델 입니다.\",\n",
    "    gpt_cond_latent=gpt_cond_latent,\n",
    "    speaker_embedding=speaker_embedding,\n",
    "    language=\"ko\",\n",
    "    enable_text_splitting=True\n",
    ")"
   ]
  },
  {
   "cell_type": "code",
   "execution_count": 4,
   "metadata": {},
   "outputs": [],
   "source": [
    "import scipy\n",
    "output_file_path = f'output_audio.wav'\n",
    "scipy.io.wavfile.write(output_file_path, 24000, outputs['wav'])"
   ]
  },
  {
   "cell_type": "code",
   "execution_count": 6,
   "metadata": {},
   "outputs": [],
   "source": [
    "outputs = model.inference(\n",
    "    text=\"مرحبا، هذا النموذج هو لاختبار تحويل النص إلى كلام.\",\n",
    "    gpt_cond_latent=gpt_cond_latent,\n",
    "    speaker_embedding=speaker_embedding,\n",
    "    language=\"ar\",\n",
    "    enable_text_splitting=True\n",
    ")\n",
    "output_file_path = f'output_audio_ar.wav'\n",
    "scipy.io.wavfile.write(output_file_path, 24000, outputs['wav'])"
   ]
  },
  {
   "cell_type": "code",
   "execution_count": null,
   "metadata": {},
   "outputs": [],
   "source": []
  }
 ],
 "metadata": {
  "kernelspec": {
   "display_name": "audio_chat",
   "language": "python",
   "name": "python3"
  },
  "language_info": {
   "codemirror_mode": {
    "name": "ipython",
    "version": 3
   },
   "file_extension": ".py",
   "mimetype": "text/x-python",
   "name": "python",
   "nbconvert_exporter": "python",
   "pygments_lexer": "ipython3",
   "version": "3.10.16"
  }
 },
 "nbformat": 4,
 "nbformat_minor": 2
}
