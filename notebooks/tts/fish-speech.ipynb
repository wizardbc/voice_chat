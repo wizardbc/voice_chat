{
 "cells": [
  {
   "cell_type": "code",
   "execution_count": 1,
   "metadata": {},
   "outputs": [
    {
     "data": {
      "text/plain": [
       "'/home/mathai/voice_chat'"
      ]
     },
     "execution_count": 1,
     "metadata": {},
     "output_type": "execute_result"
    }
   ],
   "source": [
    "import os\n",
    "os.chdir(\"../../\")\n",
    "os.getcwd()"
   ]
  },
  {
   "cell_type": "code",
   "execution_count": 2,
   "metadata": {},
   "outputs": [
    {
     "name": "stdout",
     "output_type": "stream",
     "text": [
      "The Fish Speech project is already in the directory.\n",
      "/home/mathai/voice_chat/fish-speech\n"
     ]
    }
   ],
   "source": [
    "# Clone Repo\n",
    "import os\n",
    "if not os.path.exists(\"fish-speech\"):\n",
    "  !git clone https://github.com/fishaudio/fish-speech.git\n",
    "  # Enter the project directory\n",
    "  %cd fish-speech\n",
    "  !git checkout tags/v1.4.3 --force # Because the current 1.4 version is more stable, we are using 1.4.3 here. You can replace here\n",
    "else:\n",
    "  print(\"The Fish Speech project is already in the directory.\")\n",
    "  # Enter the project directory\n",
    "  %cd fish-speech"
   ]
  },
  {
   "cell_type": "code",
   "execution_count": 3,
   "metadata": {},
   "outputs": [
    {
     "data": {
      "text/plain": [
       "'/home/mathai/voice_chat/fish-speech'"
      ]
     },
     "execution_count": 3,
     "metadata": {},
     "output_type": "execute_result"
    }
   ],
   "source": [
    "os.getcwd()"
   ]
  },
  {
   "cell_type": "code",
   "execution_count": null,
   "metadata": {},
   "outputs": [],
   "source": [
    "# Install Packages\n",
    "# !sudo apt install libasound-dev portaudio19-dev libportaudio2 libportaudiocpp0\n",
    "# !pip install pyaudio\n",
    "# !pip install torch torchvision torchaudio --index-url https://download.pytorch.org/whl/cu121\n",
    "# !pip install huggingface_hub\n",
    "# !pip install triton\n",
    "# !pip install ."
   ]
  },
  {
   "cell_type": "code",
   "execution_count": 4,
   "metadata": {},
   "outputs": [
    {
     "name": "stdout",
     "output_type": "stream",
     "text": [
      "model download local already\n"
     ]
    }
   ],
   "source": [
    "if not os.path.exists(\"checkpoints/fish-speech-1.5\"):\n",
    "    model_id = \"fishaudio/fish-speech-1.5\"\n",
    "    download_dir = \"checkpoints/fish-speech-1.5\"\n",
    "    !huggingface-cli download {model_id} --local-dir {download_dir}\n",
    "else:\n",
    "    print(\"model download local already\")"
   ]
  },
  {
   "cell_type": "code",
   "execution_count": 5,
   "metadata": {},
   "outputs": [],
   "source": [
    "vqgan_model = \"checkpoints/fish-speech-1.5/firefly-gan-vq-fsq-8x1024-21hz-generator.pth\"\n",
    "llama_model = \"checkpoints/fish-speech-1.5\"\n",
    "device = \"cuda\""
   ]
  },
  {
   "cell_type": "code",
   "execution_count": null,
   "metadata": {},
   "outputs": [
    {
     "name": "stdout",
     "output_type": "stream",
     "text": [
      "/home/mathai/voice_chat/fish-speech/uinna.wav\n"
     ]
    },
    {
     "name": "stdout",
     "output_type": "stream",
     "text": [
      "Usage: inference.py [OPTIONS]\n",
      "Try 'inference.py --help' for help.\n",
      "\n",
      "Error: Invalid value for '--input-path' / '-i': Path 'test.wav' does not exist.\n"
     ]
    }
   ],
   "source": [
    "prompt_wav = f\"{os.path.abspath('.')}/uinna.wav\"\n",
    "print(prompt_wav)\n",
    "output_npy = \"fake.npy\"\n",
    "!python tools/vqgan/inference.py -i {prompt_wav} -o {output_npy} --checkpoint-path {vqgan_model} --device {device"
   ]
  },
  {
   "cell_type": "code",
   "execution_count": null,
   "metadata": {},
   "outputs": [],
   "source": [
    "input_npy = \"fake.npy\"\n",
    "output_wav = \"fake_Speaker1.wav\"\n",
    "!python tools/vqgan/inference.py -i {input_npy} -o {output_wav} --device {device} --checkpoint-path {vqgan_model}\n",
    "# Play\n",
    "from IPython.display import Audio, display\n",
    "display(Audio(output_wav, autoplay=False))"
   ]
  }
 ],
 "metadata": {
  "kernelspec": {
   "display_name": "audio_chat",
   "language": "python",
   "name": "python3"
  },
  "language_info": {
   "codemirror_mode": {
    "name": "ipython",
    "version": 3
   },
   "file_extension": ".py",
   "mimetype": "text/x-python",
   "name": "python",
   "nbconvert_exporter": "python",
   "pygments_lexer": "ipython3",
   "version": "3.10.16"
  }
 },
 "nbformat": 4,
 "nbformat_minor": 2
}
